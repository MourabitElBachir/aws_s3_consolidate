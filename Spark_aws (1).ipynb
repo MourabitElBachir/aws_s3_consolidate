{
 "cells": [
  {
   "cell_type": "markdown",
   "id": "949332ee",
   "metadata": {},
   "source": [
    "<h2>Fives CortX AWS SparkNotebook / Processing </h2>\n",
    "\n",
    "## Code Notebook\n",
    "\n",
    "**By :** MOURABIT El Bachir"
   ]
  },
  {
   "cell_type": "markdown",
   "id": "38a78776",
   "metadata": {},
   "source": [
    "<h4> This notebook will be mainly used for the project </h4>"
   ]
  },
  {
   "cell_type": "markdown",
   "id": "48baeb89",
   "metadata": {},
   "source": [
    "<h4> This jupyther have been created by EMR cluster in EC2 to Clean, Transform & Consolidate Data that exist in S3 </h4>"
   ]
  },
  {
   "cell_type": "markdown",
   "id": "e1725fb4",
   "metadata": {},
   "source": [
    "## 1. Create and Explore Dataset"
   ]
  },
  {
   "cell_type": "markdown",
   "id": "bb8a02ce",
   "metadata": {},
   "source": [
    "### 1.1- Imports and Initialization\n",
    "\n",
    "Before we get the data and start exploring it, let's download all the dependencies that we will need."
   ]
  },
  {
   "cell_type": "code",
   "execution_count": 2,
   "id": "de9224f4",
   "metadata": {},
   "outputs": [
    {
     "data": {
      "application/vnd.jupyter.widget-view+json": {
       "model_id": "c7cf5a8a540a47f1adacc31da93a5cbb",
       "version_major": 2,
       "version_minor": 0
      },
      "text/plain": [
       "VBox()"
      ]
     },
     "metadata": {},
     "output_type": "display_data"
    },
    {
     "data": {
      "application/vnd.jupyter.widget-view+json": {
       "model_id": "",
       "version_major": 2,
       "version_minor": 0
      },
      "text/plain": [
       "FloatProgress(value=0.0, bar_style='info', description='Progress:', layout=Layout(height='25px', width='50%'),…"
      ]
     },
     "metadata": {},
     "output_type": "display_data"
    }
   ],
   "source": [
    "from pyspark.sql import SparkSession\n",
    "from pyspark.sql.functions import *\n",
    "from pyspark.sql.types import *"
   ]
  },
  {
   "cell_type": "markdown",
   "id": "4d311e7d",
   "metadata": {},
   "source": [
    "<div class=\"output\"><div class=\"output_area\"><div class=\"run_this_cell\"></div><div class=\"prompt\"></div><div class=\"output_subarea output_text\" dir=\"auto\"><pre>VBox()</pre></div></div><div class=\"output_area\"><div class=\"run_this_cell\"></div><div class=\"prompt\"></div><div class=\"output_subarea output_text output_stream output_stdout\" dir=\"auto\"><pre>Starting Spark application\n",
    "</pre></div></div><div class=\"output_area\"><div class=\"run_this_cell\"></div><div class=\"prompt\"></div><div class=\"output_subarea output_html rendered_html\" dir=\"auto\"><table>\n",
    "<tbody><tr><th>ID</th><th>YARN Application ID</th><th>Kind</th><th>State</th><th>Spark UI</th><th>Driver log</th><th>Current session?</th></tr><tr><td>4</td><td>application_1643811775736_0005</td><td>pyspark</td><td>idle</td><td><a target=\"_blank\" href=\"http://ip-172-31-3-136.eu-central-1.compute.internal:20888/proxy/application_1643811775736_0005/\">Link</a></td><td><a target=\"_blank\" href=\"http://ip-172-31-8-18.eu-central-1.compute.internal:8042/node/containerlogs/container_1643811775736_0005_01_000001/livy\">Link</a></td><td>✔</td></tr></tbody></table></div></div><div class=\"output_area\"><div class=\"run_this_cell\"></div><div class=\"prompt\"></div><div class=\"output_subarea output_text\" dir=\"auto\"><pre>FloatProgress(value=0.0, bar_style='info', description='Progress:', layout=Layout(height='25px', width='50%'),…</pre></div></div><div class=\"output_area\"><div class=\"run_this_cell\"></div><div class=\"prompt\"></div><div class=\"output_subarea output_text output_stream output_stdout\" dir=\"auto\"><pre>SparkSession available as 'spark'.\n",
    "</pre></div></div><div class=\"output_area\"><div class=\"run_this_cell\"></div><div class=\"prompt\"></div><div class=\"output_subarea output_text\" dir=\"auto\"><pre>FloatProgress(value=0.0, bar_style='info', description='Progress:', layout=Layout(height='25px', width='50%'),…</pre></div></div></div>"
   ]
  },
  {
   "cell_type": "markdown",
   "id": "a546f77c",
   "metadata": {},
   "source": [
    "<b>Initialize Spark</b>"
   ]
  },
  {
   "cell_type": "markdown",
   "id": "4bc4c0f2",
   "metadata": {},
   "source": [
    "spark = SparkSession.builder.appName(\"Data consolidation\").getOrCreate()"
   ]
  },
  {
   "cell_type": "markdown",
   "id": "c08a6ce3",
   "metadata": {},
   "source": [
    "<div class=\"output_subarea output_text\" dir=\"auto\"><pre>FloatProgress(value=0.0, bar_style='info', description='Progress:', layout=Layout(height='25px', width='50%'),…</pre></div>"
   ]
  },
  {
   "cell_type": "markdown",
   "id": "2bba2812",
   "metadata": {},
   "source": [
    "<b>Initialize sources (input & output)</b>"
   ]
  },
  {
   "cell_type": "code",
   "execution_count": 3,
   "id": "b07a33da",
   "metadata": {},
   "outputs": [
    {
     "data": {
      "application/vnd.jupyter.widget-view+json": {
       "model_id": "5915bdf615b7452ea8d15b4324351f89",
       "version_major": 2,
       "version_minor": 0
      },
      "text/plain": [
       "VBox()"
      ]
     },
     "metadata": {},
     "output_type": "display_data"
    },
    {
     "data": {
      "application/vnd.jupyter.widget-view+json": {
       "model_id": "",
       "version_major": 2,
       "version_minor": 0
      },
      "text/plain": [
       "FloatProgress(value=0.0, bar_style='info', description='Progress:', layout=Layout(height='25px', width='50%'),…"
      ]
     },
     "metadata": {},
     "output_type": "display_data"
    }
   ],
   "source": [
    "bucket_path            = 's3a://recrutementdatasciencestorage'\n",
    "vibration_AB_source    = f'{bucket_path}/vibration_axis_A_axis_B.orc'   \n",
    "vibration_C_source     = f'{bucket_path}/vibration_axis_C.orc'    \n",
    "vibration_D_source     = f'{bucket_path}/vibration_axis_D.orc'\n",
    "milling_source         = f'{bucket_path}/milling_modes.orc'\n",
    "output_uri             = f'{bucket_path}/consolidation.orc'"
   ]
  },
  {
   "cell_type": "markdown",
   "id": "9939a0a6",
   "metadata": {},
   "source": [
    "<div class=\"output_subarea output_text\" dir=\"auto\"><pre>FloatProgress(value=0.0, bar_style='info', description='Progress:', layout=Layout(height='25px', width='50%'),…</pre></div>"
   ]
  },
  {
   "cell_type": "markdown",
   "id": "69bebe6d",
   "metadata": {},
   "source": [
    "<b>Verify if date format is correct / we will use it to verify date columb in every dataframe</b>"
   ]
  },
  {
   "cell_type": "code",
   "execution_count": 4,
   "id": "5935d12d",
   "metadata": {},
   "outputs": [
    {
     "data": {
      "application/vnd.jupyter.widget-view+json": {
       "model_id": "5870eb1008804acc914519be7b37ea01",
       "version_major": 2,
       "version_minor": 0
      },
      "text/plain": [
       "VBox()"
      ]
     },
     "metadata": {},
     "output_type": "display_data"
    },
    {
     "data": {
      "application/vnd.jupyter.widget-view+json": {
       "model_id": "",
       "version_major": 2,
       "version_minor": 0
      },
      "text/plain": [
       "FloatProgress(value=0.0, bar_style='info', description='Progress:', layout=Layout(height='25px', width='50%'),…"
      ]
     },
     "metadata": {},
     "output_type": "display_data"
    }
   ],
   "source": [
    "import datetime\n",
    "from pyspark.sql.functions import udf\n",
    "@udf(\"boolean\")\n",
    "def isvaliddatetime(date_text, format_date):\n",
    "    try:\n",
    "        datetime.datetime.strptime(date_text, format_date)\n",
    "        return True\n",
    "    except ValueError:\n",
    "        return False\n",
    "\n",
    "format_datetime         = '%Y-%m-%d %H:%M:%S'\n",
    "format_datetime_decimal = '%Y-%m-%d %H:%M:%S.%f'"
   ]
  },
  {
   "cell_type": "markdown",
   "id": "649554ee",
   "metadata": {},
   "source": [
    "<div class=\"output_subarea output_text\" dir=\"auto\"><pre>FloatProgress(value=0.0, bar_style='info', description='Progress:', layout=Layout(height='25px', width='50%'),…</pre></div>"
   ]
  },
  {
   "cell_type": "markdown",
   "id": "a65afbf3",
   "metadata": {},
   "source": [
    "<b>Test if isvaliddatetime works correctly</b>"
   ]
  },
  {
   "cell_type": "code",
   "execution_count": 5,
   "id": "e514d8ed",
   "metadata": {},
   "outputs": [
    {
     "data": {
      "application/vnd.jupyter.widget-view+json": {
       "model_id": "6db1ed451efc43e19959a99af8c579dd",
       "version_major": 2,
       "version_minor": 0
      },
      "text/plain": [
       "VBox()"
      ]
     },
     "metadata": {},
     "output_type": "display_data"
    },
    {
     "data": {
      "application/vnd.jupyter.widget-view+json": {
       "model_id": "",
       "version_major": 2,
       "version_minor": 0
      },
      "text/plain": [
       "FloatProgress(value=0.0, bar_style='info', description='Progress:', layout=Layout(height='25px', width='50%'),…"
      ]
     },
     "metadata": {},
     "output_type": "display_data"
    },
    {
     "name": "stdout",
     "output_type": "stream",
     "text": [
      "Column<b'isvaliddatetime(2018-10-20 03:46:40.000050, %Y-%m-%d %H:%M:%S)'>"
     ]
    }
   ],
   "source": [
    "isvaliddatetime(col('2018-10-20 03:46:40.000050'), format_datetime)"
   ]
  },
  {
   "cell_type": "markdown",
   "id": "4ea38266",
   "metadata": {},
   "source": [
    "<div class=\"output_subarea output_text output_stream output_stdout\" dir=\"auto\"><pre>Column&lt;b'isvaliddatetime(2018-10-20 03:46:40.000050, %Y-%m-%d %H:%M:%S)'&gt;</pre></div>"
   ]
  },
  {
   "cell_type": "markdown",
   "id": "7472569b",
   "metadata": {},
   "source": [
    "### 1.2- Exploring Vibration A & B axis"
   ]
  },
  {
   "cell_type": "code",
   "execution_count": 6,
   "id": "d10bdcdf",
   "metadata": {},
   "outputs": [
    {
     "data": {
      "application/vnd.jupyter.widget-view+json": {
       "model_id": "a68dd9fdc25547b693950beac52c91f9",
       "version_major": 2,
       "version_minor": 0
      },
      "text/plain": [
       "VBox()"
      ]
     },
     "metadata": {},
     "output_type": "display_data"
    },
    {
     "data": {
      "application/vnd.jupyter.widget-view+json": {
       "model_id": "",
       "version_major": 2,
       "version_minor": 0
      },
      "text/plain": [
       "FloatProgress(value=0.0, bar_style='info', description='Progress:', layout=Layout(height='25px', width='50%'),…"
      ]
     },
     "metadata": {},
     "output_type": "display_data"
    }
   ],
   "source": [
    "vibration_A_B_df = spark \\\n",
    "                    .read \\\n",
    "                    .option(\"header\", \"true\") \\\n",
    "                    .orc(vibration_AB_source) \\\n",
    "                    .toDF('date_AB', 'value_A', 'value_B') \\\n",
    "                    .orderBy(asc('date_AB')) "
   ]
  },
  {
   "cell_type": "code",
   "execution_count": 7,
   "id": "dd9d1702",
   "metadata": {},
   "outputs": [
    {
     "data": {
      "application/vnd.jupyter.widget-view+json": {
       "model_id": "955293570d7147ceadf087f116e2c855",
       "version_major": 2,
       "version_minor": 0
      },
      "text/plain": [
       "VBox()"
      ]
     },
     "metadata": {},
     "output_type": "display_data"
    },
    {
     "data": {
      "application/vnd.jupyter.widget-view+json": {
       "model_id": "",
       "version_major": 2,
       "version_minor": 0
      },
      "text/plain": [
       "FloatProgress(value=0.0, bar_style='info', description='Progress:', layout=Layout(height='25px', width='50%'),…"
      ]
     },
     "metadata": {},
     "output_type": "display_data"
    }
   ],
   "source": [
    "vibration_A_B_df_filetered = vibration_A_B_df \\\n",
    "                                .filter(isvaliddatetime(col('date_AB'), lit(format_datetime_decimal)))"
   ]
  },
  {
   "cell_type": "code",
   "execution_count": 8,
   "id": "0e0e9abf",
   "metadata": {},
   "outputs": [
    {
     "data": {
      "application/vnd.jupyter.widget-view+json": {
       "model_id": "a7f07ecb8a8243099feb9b054375fec0",
       "version_major": 2,
       "version_minor": 0
      },
      "text/plain": [
       "VBox()"
      ]
     },
     "metadata": {},
     "output_type": "display_data"
    },
    {
     "data": {
      "application/vnd.jupyter.widget-view+json": {
       "model_id": "",
       "version_major": 2,
       "version_minor": 0
      },
      "text/plain": [
       "FloatProgress(value=0.0, bar_style='info', description='Progress:', layout=Layout(height='25px', width='50%'),…"
      ]
     },
     "metadata": {},
     "output_type": "display_data"
    }
   ],
   "source": [
    "vibration_A_B_df_without_null = vibration_A_B_df_filetered \\\n",
    "                                    .na \\\n",
    "                                    .drop()"
   ]
  },
  {
   "cell_type": "code",
   "execution_count": 9,
   "id": "306fbcff",
   "metadata": {},
   "outputs": [
    {
     "data": {
      "application/vnd.jupyter.widget-view+json": {
       "model_id": "03a1640812d94516a48be64d974e4304",
       "version_major": 2,
       "version_minor": 0
      },
      "text/plain": [
       "VBox()"
      ]
     },
     "metadata": {},
     "output_type": "display_data"
    },
    {
     "data": {
      "application/vnd.jupyter.widget-view+json": {
       "model_id": "",
       "version_major": 2,
       "version_minor": 0
      },
      "text/plain": [
       "FloatProgress(value=0.0, bar_style='info', description='Progress:', layout=Layout(height='25px', width='50%'),…"
      ]
     },
     "metadata": {},
     "output_type": "display_data"
    },
    {
     "name": "stdout",
     "output_type": "stream",
     "text": [
      "+--------------------+--------------------+--------------------+\n",
      "|             date_AB|             value_A|             value_B|\n",
      "+--------------------+--------------------+--------------------+\n",
      "|2018-10-20 03:46:...|  0.4997962601945021| -0.4232508385579977|\n",
      "|2018-10-20 03:46:...| -0.3049049175939375|-0.45048938736365657|\n",
      "|2018-10-20 03:46:...| 0.13483806206868135|-0.22773576150343397|\n",
      "|2018-10-20 03:46:...|  1.1917179155591455|-0.47666999906759433|\n",
      "|2018-10-20 03:46:...|-0.05093001961112614|-0.09420548170563174|\n",
      "+--------------------+--------------------+--------------------+\n",
      "only showing top 5 rows\n",
      "\n",
      "104519498"
     ]
    }
   ],
   "source": [
    "vibration_A_B_df_without_null.show(5)"
   ]
  },
  {
   "cell_type": "markdown",
   "id": "9eb4dc85",
   "metadata": {},
   "source": [
    "<pre>\n",
    "+--------------------+--------------------+--------------------+\n",
    "|             date_AB|             value_A|             value_B|\n",
    "+--------------------+--------------------+--------------------+\n",
    "|2018-10-20 03:46:...|  0.4997962601945021| -0.4232508385579977|\n",
    "|2018-10-20 03:46:...| -0.3049049175939375|-0.45048938736365657|\n",
    "|2018-10-20 03:46:...| 0.13483806206868135|-0.22773576150343397|\n",
    "|2018-10-20 03:46:...|  1.1917179155591455|-0.47666999906759433|\n",
    "|2018-10-20 03:46:...|-0.05093001961112614|-0.09420548170563174|\n",
    "+--------------------+--------------------+--------------------+\n",
    "only showing top 5 rows\n",
    "</pre>"
   ]
  },
  {
   "cell_type": "markdown",
   "id": "4464adda",
   "metadata": {},
   "source": [
    "### 1.3- Exploring Vibration C axis"
   ]
  },
  {
   "cell_type": "code",
   "execution_count": 10,
   "id": "b54ddcdc",
   "metadata": {},
   "outputs": [
    {
     "data": {
      "application/vnd.jupyter.widget-view+json": {
       "model_id": "530dc48dba1b414fa69cd833b28c3585",
       "version_major": 2,
       "version_minor": 0
      },
      "text/plain": [
       "VBox()"
      ]
     },
     "metadata": {},
     "output_type": "display_data"
    },
    {
     "data": {
      "application/vnd.jupyter.widget-view+json": {
       "model_id": "",
       "version_major": 2,
       "version_minor": 0
      },
      "text/plain": [
       "FloatProgress(value=0.0, bar_style='info', description='Progress:', layout=Layout(height='25px', width='50%'),…"
      ]
     },
     "metadata": {},
     "output_type": "display_data"
    }
   ],
   "source": [
    "vibration_C_df = spark \\\n",
    "                    .read \\\n",
    "                    .option(\"header\", \"true\") \\\n",
    "                    .orc(vibration_C_source) \\\n",
    "                    .toDF('date_C', 'value_C') \\\n",
    "                    .orderBy(asc('date_C'))"
   ]
  },
  {
   "cell_type": "code",
   "execution_count": 11,
   "id": "128e3fde",
   "metadata": {},
   "outputs": [
    {
     "data": {
      "application/vnd.jupyter.widget-view+json": {
       "model_id": "be0a0a3538b744babfb4ddfd0b8a7dcf",
       "version_major": 2,
       "version_minor": 0
      },
      "text/plain": [
       "VBox()"
      ]
     },
     "metadata": {},
     "output_type": "display_data"
    },
    {
     "data": {
      "application/vnd.jupyter.widget-view+json": {
       "model_id": "",
       "version_major": 2,
       "version_minor": 0
      },
      "text/plain": [
       "FloatProgress(value=0.0, bar_style='info', description='Progress:', layout=Layout(height='25px', width='50%'),…"
      ]
     },
     "metadata": {},
     "output_type": "display_data"
    }
   ],
   "source": [
    "vibration_C_df_filetered = vibration_C_df \\\n",
    "                                .filter(isvaliddatetime(col('date_C'), lit(format_datetime)))"
   ]
  },
  {
   "cell_type": "code",
   "execution_count": 12,
   "id": "6e8956fe",
   "metadata": {},
   "outputs": [
    {
     "data": {
      "application/vnd.jupyter.widget-view+json": {
       "model_id": "89ad286849ad4e5989831a90a71661da",
       "version_major": 2,
       "version_minor": 0
      },
      "text/plain": [
       "VBox()"
      ]
     },
     "metadata": {},
     "output_type": "display_data"
    },
    {
     "data": {
      "application/vnd.jupyter.widget-view+json": {
       "model_id": "",
       "version_major": 2,
       "version_minor": 0
      },
      "text/plain": [
       "FloatProgress(value=0.0, bar_style='info', description='Progress:', layout=Layout(height='25px', width='50%'),…"
      ]
     },
     "metadata": {},
     "output_type": "display_data"
    }
   ],
   "source": [
    "from pyspark import StorageLevel"
   ]
  },
  {
   "cell_type": "code",
   "execution_count": 13,
   "id": "5dba6756",
   "metadata": {},
   "outputs": [
    {
     "data": {
      "application/vnd.jupyter.widget-view+json": {
       "model_id": "0b43f1e3ef7748719d6073b8065611af",
       "version_major": 2,
       "version_minor": 0
      },
      "text/plain": [
       "VBox()"
      ]
     },
     "metadata": {},
     "output_type": "display_data"
    },
    {
     "data": {
      "application/vnd.jupyter.widget-view+json": {
       "model_id": "",
       "version_major": 2,
       "version_minor": 0
      },
      "text/plain": [
       "FloatProgress(value=0.0, bar_style='info', description='Progress:', layout=Layout(height='25px', width='50%'),…"
      ]
     },
     "metadata": {},
     "output_type": "display_data"
    },
    {
     "name": "stdout",
     "output_type": "stream",
     "text": [
      "DataFrame[date_C: string, value_C: string]"
     ]
    }
   ],
   "source": [
    "vibration_C_df_without_null = vibration_C_df_filetered \\\n",
    "                                    .na \\\n",
    "                                    .drop()\n",
    "vibration_C_df_without_null.persist(StorageLevel.MEMORY_AND_DISK)"
   ]
  },
  {
   "cell_type": "code",
   "execution_count": 14,
   "id": "642ecc96",
   "metadata": {},
   "outputs": [
    {
     "data": {
      "application/vnd.jupyter.widget-view+json": {
       "model_id": "3347625f94904d18b0a8251dae587e9f",
       "version_major": 2,
       "version_minor": 0
      },
      "text/plain": [
       "VBox()"
      ]
     },
     "metadata": {},
     "output_type": "display_data"
    },
    {
     "data": {
      "application/vnd.jupyter.widget-view+json": {
       "model_id": "",
       "version_major": 2,
       "version_minor": 0
      },
      "text/plain": [
       "FloatProgress(value=0.0, bar_style='info', description='Progress:', layout=Layout(height='25px', width='50%'),…"
      ]
     },
     "metadata": {},
     "output_type": "display_data"
    },
    {
     "name": "stdout",
     "output_type": "stream",
     "text": [
      "+-------------------+-------------------+\n",
      "|             date_C|            value_C|\n",
      "+-------------------+-------------------+\n",
      "|2018-10-20 03:46:40| 0.5169295745127163|\n",
      "|2018-10-20 03:47:40|-0.2521033382635548|\n",
      "|2018-10-20 03:48:40| 0.7167329219560264|\n",
      "|2018-10-20 03:49:40| 0.5825232860070251|\n",
      "|2018-10-20 03:50:40|0.27491402631724193|\n",
      "+-------------------+-------------------+\n",
      "only showing top 5 rows"
     ]
    }
   ],
   "source": [
    "vibration_C_df_without_null.show(5)"
   ]
  },
  {
   "cell_type": "markdown",
   "id": "0ef364c9",
   "metadata": {},
   "source": [
    "<pre>\n",
    "Spark Job Progress\n",
    "+-------------------+-------------------+\n",
    "|             date_C|            value_C|\n",
    "+-------------------+-------------------+\n",
    "|2018-10-20 03:46:40| 0.5169295745127163|\n",
    "|2018-10-20 03:47:40|-0.2521033382635548|\n",
    "|2018-10-20 03:48:40| 0.7167329219560264|\n",
    "|2018-10-20 03:49:40| 0.5825232860070251|\n",
    "|2018-10-20 03:50:40|0.27491402631724193|\n",
    "+-------------------+-------------------+\n",
    "only showing top 5 rows\n",
    "</pre>"
   ]
  },
  {
   "cell_type": "markdown",
   "id": "e9f5eee4",
   "metadata": {},
   "source": [
    "### 1.4- Exploring Vibration D axis"
   ]
  },
  {
   "cell_type": "code",
   "execution_count": 15,
   "id": "c1ce09a6",
   "metadata": {},
   "outputs": [
    {
     "data": {
      "application/vnd.jupyter.widget-view+json": {
       "model_id": "cfbd971f55c64da7abaa0dd625872e36",
       "version_major": 2,
       "version_minor": 0
      },
      "text/plain": [
       "VBox()"
      ]
     },
     "metadata": {},
     "output_type": "display_data"
    },
    {
     "data": {
      "application/vnd.jupyter.widget-view+json": {
       "model_id": "",
       "version_major": 2,
       "version_minor": 0
      },
      "text/plain": [
       "FloatProgress(value=0.0, bar_style='info', description='Progress:', layout=Layout(height='25px', width='50%'),…"
      ]
     },
     "metadata": {},
     "output_type": "display_data"
    }
   ],
   "source": [
    "vibration_D_df = spark \\\n",
    "                    .read \\\n",
    "                    .option(\"header\", \"true\") \\\n",
    "                    .orc(vibration_D_source) \\\n",
    "                    .toDF('date_D', 'value_D') \\\n",
    "                    .orderBy(asc('date_D')) "
   ]
  },
  {
   "cell_type": "code",
   "execution_count": 16,
   "id": "044b5b70",
   "metadata": {},
   "outputs": [
    {
     "data": {
      "application/vnd.jupyter.widget-view+json": {
       "model_id": "50c65490a6724d83abd7639a96cce51f",
       "version_major": 2,
       "version_minor": 0
      },
      "text/plain": [
       "VBox()"
      ]
     },
     "metadata": {},
     "output_type": "display_data"
    },
    {
     "data": {
      "application/vnd.jupyter.widget-view+json": {
       "model_id": "",
       "version_major": 2,
       "version_minor": 0
      },
      "text/plain": [
       "FloatProgress(value=0.0, bar_style='info', description='Progress:', layout=Layout(height='25px', width='50%'),…"
      ]
     },
     "metadata": {},
     "output_type": "display_data"
    }
   ],
   "source": [
    "vibration_D_df_filetered = vibration_D_df \\\n",
    "                                .filter(isvaliddatetime(col('date_D'), lit(format_datetime)))"
   ]
  },
  {
   "cell_type": "code",
   "execution_count": 17,
   "id": "725df6b7",
   "metadata": {},
   "outputs": [
    {
     "data": {
      "application/vnd.jupyter.widget-view+json": {
       "model_id": "0c45b04b240949d2a9f9b5aaba9b8111",
       "version_major": 2,
       "version_minor": 0
      },
      "text/plain": [
       "VBox()"
      ]
     },
     "metadata": {},
     "output_type": "display_data"
    },
    {
     "data": {
      "application/vnd.jupyter.widget-view+json": {
       "model_id": "",
       "version_major": 2,
       "version_minor": 0
      },
      "text/plain": [
       "FloatProgress(value=0.0, bar_style='info', description='Progress:', layout=Layout(height='25px', width='50%'),…"
      ]
     },
     "metadata": {},
     "output_type": "display_data"
    },
    {
     "name": "stdout",
     "output_type": "stream",
     "text": [
      "DataFrame[date_D: string, value_D: string]"
     ]
    }
   ],
   "source": [
    "vibration_D_df_without_null = vibration_D_df_filetered \\\n",
    "                                    .na \\\n",
    "                                    .drop()\n",
    "vibration_D_df_without_null.persist(StorageLevel.MEMORY_AND_DISK)"
   ]
  },
  {
   "cell_type": "code",
   "execution_count": 18,
   "id": "701f17bb",
   "metadata": {},
   "outputs": [
    {
     "data": {
      "application/vnd.jupyter.widget-view+json": {
       "model_id": "224a747196cf440db4f669ff7fabeab4",
       "version_major": 2,
       "version_minor": 0
      },
      "text/plain": [
       "VBox()"
      ]
     },
     "metadata": {},
     "output_type": "display_data"
    },
    {
     "data": {
      "application/vnd.jupyter.widget-view+json": {
       "model_id": "",
       "version_major": 2,
       "version_minor": 0
      },
      "text/plain": [
       "FloatProgress(value=0.0, bar_style='info', description='Progress:', layout=Layout(height='25px', width='50%'),…"
      ]
     },
     "metadata": {},
     "output_type": "display_data"
    },
    {
     "name": "stdout",
     "output_type": "stream",
     "text": [
      "+-------------------+--------------------+\n",
      "|             date_D|             value_D|\n",
      "+-------------------+--------------------+\n",
      "|2018-10-20 03:46:40|0.001874454035457...|\n",
      "|2018-10-20 03:46:41|  -11.67241608536065|\n",
      "|2018-10-20 03:46:42| -0.9856337431497432|\n",
      "|2018-10-20 03:46:43| -1.2268499578642467|\n",
      "|2018-10-20 03:46:44|   18.89443445842324|\n",
      "+-------------------+--------------------+\n",
      "only showing top 5 rows"
     ]
    }
   ],
   "source": [
    "vibration_D_df_without_null.show(5)"
   ]
  },
  {
   "cell_type": "markdown",
   "id": "6c14f4ad",
   "metadata": {},
   "source": [
    "<pre>\n",
    "+-------------------+--------------------+\n",
    "|             date_D|             value_D|\n",
    "+-------------------+--------------------+\n",
    "|2018-10-20 03:46:40|0.001874454035457...|\n",
    "|2018-10-20 03:46:41|  -11.67241608536065|\n",
    "|2018-10-20 03:46:42| -0.9856337431497432|\n",
    "|2018-10-20 03:46:43| -1.2268499578642467|\n",
    "|2018-10-20 03:46:44|   18.89443445842324|\n",
    "+-------------------+--------------------+\n",
    "only showing top 5 rows\n",
    "</pre>"
   ]
  },
  {
   "cell_type": "markdown",
   "id": "8e3cf9c6",
   "metadata": {},
   "source": [
    "### 1.5- Exploring Milling mode data"
   ]
  },
  {
   "cell_type": "code",
   "execution_count": 28,
   "id": "c3d407ee",
   "metadata": {},
   "outputs": [
    {
     "data": {
      "application/vnd.jupyter.widget-view+json": {
       "model_id": "93d81f00836a4dd2902f1a6b2a459cb6",
       "version_major": 2,
       "version_minor": 0
      },
      "text/plain": [
       "VBox()"
      ]
     },
     "metadata": {},
     "output_type": "display_data"
    },
    {
     "data": {
      "application/vnd.jupyter.widget-view+json": {
       "model_id": "",
       "version_major": 2,
       "version_minor": 0
      },
      "text/plain": [
       "FloatProgress(value=0.0, bar_style='info', description='Progress:', layout=Layout(height='25px', width='50%'),…"
      ]
     },
     "metadata": {},
     "output_type": "display_data"
    }
   ],
   "source": [
    "milling_df = spark \\\n",
    "            .read \\\n",
    "            .option(\"header\", \"true\") \\\n",
    "            .orc(milling_source) \\\n",
    "            .toDF('debut_prog_mode', 'programme', 'mode') \\\n",
    "            .orderBy(asc('debut_prog_mode'))"
   ]
  },
  {
   "cell_type": "code",
   "execution_count": 29,
   "id": "4ef28d5d",
   "metadata": {},
   "outputs": [
    {
     "data": {
      "application/vnd.jupyter.widget-view+json": {
       "model_id": "894ef84e06de4baeb45cec8f4672efa1",
       "version_major": 2,
       "version_minor": 0
      },
      "text/plain": [
       "VBox()"
      ]
     },
     "metadata": {},
     "output_type": "display_data"
    },
    {
     "data": {
      "application/vnd.jupyter.widget-view+json": {
       "model_id": "",
       "version_major": 2,
       "version_minor": 0
      },
      "text/plain": [
       "FloatProgress(value=0.0, bar_style='info', description='Progress:', layout=Layout(height='25px', width='50%'),…"
      ]
     },
     "metadata": {},
     "output_type": "display_data"
    }
   ],
   "source": [
    "milling_df_filetered = milling_df \\\n",
    "                                .filter(isvaliddatetime(col('debut_prog_mode'), lit(format_datetime)))"
   ]
  },
  {
   "cell_type": "code",
   "execution_count": 30,
   "id": "4dd4d94d",
   "metadata": {},
   "outputs": [
    {
     "data": {
      "application/vnd.jupyter.widget-view+json": {
       "model_id": "9b32e0d9e04849fc8370bd5391310cc0",
       "version_major": 2,
       "version_minor": 0
      },
      "text/plain": [
       "VBox()"
      ]
     },
     "metadata": {},
     "output_type": "display_data"
    },
    {
     "data": {
      "application/vnd.jupyter.widget-view+json": {
       "model_id": "",
       "version_major": 2,
       "version_minor": 0
      },
      "text/plain": [
       "FloatProgress(value=0.0, bar_style='info', description='Progress:', layout=Layout(height='25px', width='50%'),…"
      ]
     },
     "metadata": {},
     "output_type": "display_data"
    },
    {
     "name": "stdout",
     "output_type": "stream",
     "text": [
      "DataFrame[debut_prog_mode: string, programme: string, mode: string]"
     ]
    }
   ],
   "source": [
    "milling_df_without_null = milling_df_filetered \\\n",
    "                                    .na \\\n",
    "                                    .drop()\n",
    "milling_df_without_null.persist(StorageLevel.MEMORY_AND_DISK)"
   ]
  },
  {
   "cell_type": "code",
   "execution_count": 31,
   "id": "b00ffb11",
   "metadata": {},
   "outputs": [
    {
     "data": {
      "application/vnd.jupyter.widget-view+json": {
       "model_id": "752fd926d0734b338bd3dc7fc9177376",
       "version_major": 2,
       "version_minor": 0
      },
      "text/plain": [
       "VBox()"
      ]
     },
     "metadata": {},
     "output_type": "display_data"
    },
    {
     "data": {
      "application/vnd.jupyter.widget-view+json": {
       "model_id": "",
       "version_major": 2,
       "version_minor": 0
      },
      "text/plain": [
       "FloatProgress(value=0.0, bar_style='info', description='Progress:', layout=Layout(height='25px', width='50%'),…"
      ]
     },
     "metadata": {},
     "output_type": "display_data"
    },
    {
     "name": "stdout",
     "output_type": "stream",
     "text": [
      "+-------------------+---------+-----+\n",
      "|    debut_prog_mode|programme| mode|\n",
      "+-------------------+---------+-----+\n",
      "|2018-10-20 03:53:25|     prg3|mode2|\n",
      "|2018-10-20 04:02:52|     prg3|mode5|\n",
      "|2018-10-20 04:03:07|     prg1|mode4|\n",
      "|2018-10-20 04:18:37|     prg1|mode1|\n",
      "|2018-10-20 04:25:07|     prg1|mode1|\n",
      "+-------------------+---------+-----+\n",
      "only showing top 5 rows"
     ]
    }
   ],
   "source": [
    "milling_df_without_null.show(5)"
   ]
  },
  {
   "cell_type": "markdown",
   "id": "936a7ade",
   "metadata": {},
   "source": [
    "<pre>\n",
    "+-------------------+---------+-----+\n",
    "|    debut_prog_mode|programme| mode|\n",
    "+-------------------+---------+-----+\n",
    "|2018-10-20 03:53:25|     prg3|mode2|\n",
    "|2018-10-20 04:02:52|     prg3|mode5|\n",
    "|2018-10-20 04:03:07|     prg1|mode4|\n",
    "|2018-10-20 04:18:37|     prg1|mode1|\n",
    "|2018-10-20 04:25:07|     prg1|mode1|\n",
    "+-------------------+---------+-----+\n",
    "only showing top 5 rows\n",
    "</pre>"
   ]
  },
  {
   "cell_type": "markdown",
   "id": "b399e4d0",
   "metadata": {},
   "source": [
    "## 2- Consolidating DATA \n",
    "### 2.1- Consolidating  Axis C dataframe & Milling modes"
   ]
  },
  {
   "cell_type": "code",
   "execution_count": 32,
   "id": "e1d5fc61",
   "metadata": {},
   "outputs": [
    {
     "data": {
      "application/vnd.jupyter.widget-view+json": {
       "model_id": "911292f59e23466fad06af3d3256efe9",
       "version_major": 2,
       "version_minor": 0
      },
      "text/plain": [
       "VBox()"
      ]
     },
     "metadata": {},
     "output_type": "display_data"
    },
    {
     "data": {
      "application/vnd.jupyter.widget-view+json": {
       "model_id": "",
       "version_major": 2,
       "version_minor": 0
      },
      "text/plain": [
       "FloatProgress(value=0.0, bar_style='info', description='Progress:', layout=Layout(height='25px', width='50%'),…"
      ]
     },
     "metadata": {},
     "output_type": "display_data"
    },
    {
     "name": "stdout",
     "output_type": "stream",
     "text": [
      "DataFrame[date_C: string, value_C: string, debut_prog_mode: string, programme: string, mode: string]"
     ]
    }
   ],
   "source": [
    "#Join small dataframes / milling mode & vibration_c\n",
    "vibration_C_milling_df = vibration_C_df_without_null. \\\n",
    "                       join(milling_df_without_null, vibration_C_df_without_null.date_C==milling_df_without_null.debut_prog_mode, how = 'inner')\n",
    "vibration_C_milling_df.persist(StorageLevel.MEMORY_AND_DISK)"
   ]
  },
  {
   "cell_type": "code",
   "execution_count": 33,
   "id": "b310d780",
   "metadata": {},
   "outputs": [
    {
     "data": {
      "application/vnd.jupyter.widget-view+json": {
       "model_id": "7755b29cd8e04e7f99cfdb6a86ce6ad0",
       "version_major": 2,
       "version_minor": 0
      },
      "text/plain": [
       "VBox()"
      ]
     },
     "metadata": {},
     "output_type": "display_data"
    },
    {
     "data": {
      "application/vnd.jupyter.widget-view+json": {
       "model_id": "",
       "version_major": 2,
       "version_minor": 0
      },
      "text/plain": [
       "FloatProgress(value=0.0, bar_style='info', description='Progress:', layout=Layout(height='25px', width='50%'),…"
      ]
     },
     "metadata": {},
     "output_type": "display_data"
    },
    {
     "name": "stdout",
     "output_type": "stream",
     "text": [
      "+-------------------+-------------------+-------------------+---------+-----+\n",
      "|             date_C|            value_C|    debut_prog_mode|programme| mode|\n",
      "+-------------------+-------------------+-------------------+---------+-----+\n",
      "|2018-10-20 14:38:40| 1.3677986240703166|2018-10-20 14:38:40|     prg3|mode1|\n",
      "|2018-10-21 09:38:40|-0.5591151400853271|2018-10-21 09:38:40|     prg1|mode2|\n",
      "|2018-10-21 10:23:40|  0.834322603398805|2018-10-21 10:23:40|     prg3|mode1|\n",
      "|2018-10-21 18:02:40| 1.6925290547182141|2018-10-21 18:02:40|     prg1|mode5|\n",
      "|2018-10-21 19:55:40|  1.534462973971987|2018-10-21 19:55:40|     prg1|mode2|\n",
      "+-------------------+-------------------+-------------------+---------+-----+\n",
      "only showing top 5 rows"
     ]
    }
   ],
   "source": [
    "vibration_C_milling_df.show(5)"
   ]
  },
  {
   "cell_type": "markdown",
   "id": "5808c74e",
   "metadata": {},
   "source": [
    "<pre>\n",
    "+-------------------+-------------------+-------------------+---------+-----+\n",
    "|             date_C|            value_C|    debut_prog_mode|programme| mode|\n",
    "+-------------------+-------------------+-------------------+---------+-----+\n",
    "|2018-10-20 14:38:40| 1.3677986240703166|2018-10-20 14:38:40|     prg3|mode1|\n",
    "|2018-10-21 09:38:40|-0.5591151400853271|2018-10-21 09:38:40|     prg1|mode2|\n",
    "|2018-10-21 10:23:40|  0.834322603398805|2018-10-21 10:23:40|     prg3|mode1|\n",
    "|2018-10-21 18:02:40| 1.6925290547182141|2018-10-21 18:02:40|     prg1|mode5|\n",
    "|2018-10-21 19:55:40|  1.534462973971987|2018-10-21 19:55:40|     prg1|mode2|\n",
    "+-------------------+-------------------+-------------------+---------+-----+\n",
    "only showing top 5 rows\n",
    "</pre>"
   ]
  },
  {
   "cell_type": "markdown",
   "id": "f7b34db2",
   "metadata": {},
   "source": [
    "### 2.2- Consolidating  Axis C dataframe+Milling modes & Axis C dataframe"
   ]
  },
  {
   "cell_type": "code",
   "execution_count": 34,
   "id": "502a2e32",
   "metadata": {},
   "outputs": [
    {
     "data": {
      "application/vnd.jupyter.widget-view+json": {
       "model_id": "b7d888df9d2048d3820cd76ffcf58bf6",
       "version_major": 2,
       "version_minor": 0
      },
      "text/plain": [
       "VBox()"
      ]
     },
     "metadata": {},
     "output_type": "display_data"
    },
    {
     "data": {
      "application/vnd.jupyter.widget-view+json": {
       "model_id": "",
       "version_major": 2,
       "version_minor": 0
      },
      "text/plain": [
       "FloatProgress(value=0.0, bar_style='info', description='Progress:', layout=Layout(height='25px', width='50%'),…"
      ]
     },
     "metadata": {},
     "output_type": "display_data"
    },
    {
     "name": "stdout",
     "output_type": "stream",
     "text": [
      "DataFrame[date_D: string, value_D: string, date_C: string, value_C: string, debut_prog_mode: string, programme: string, mode: string]"
     ]
    }
   ],
   "source": [
    "#Join (milling mode, vibration_c) & vibration_d \n",
    "vibration_C_D_milling_df = vibration_D_df_without_null. \\\n",
    "                       join(vibration_C_milling_df, vibration_D_df_without_null.date_D==vibration_C_milling_df.debut_prog_mode, how = 'inner')\n",
    "vibration_C_D_milling_df.persist(StorageLevel.MEMORY_AND_DISK)"
   ]
  },
  {
   "cell_type": "code",
   "execution_count": 35,
   "id": "2bf366a8",
   "metadata": {},
   "outputs": [
    {
     "data": {
      "application/vnd.jupyter.widget-view+json": {
       "model_id": "2cd9bcbc2d4149f297709a2074b5c46c",
       "version_major": 2,
       "version_minor": 0
      },
      "text/plain": [
       "VBox()"
      ]
     },
     "metadata": {},
     "output_type": "display_data"
    },
    {
     "data": {
      "application/vnd.jupyter.widget-view+json": {
       "model_id": "",
       "version_major": 2,
       "version_minor": 0
      },
      "text/plain": [
       "FloatProgress(value=0.0, bar_style='info', description='Progress:', layout=Layout(height='25px', width='50%'),…"
      ]
     },
     "metadata": {},
     "output_type": "display_data"
    },
    {
     "name": "stdout",
     "output_type": "stream",
     "text": [
      "+-------------------+------------------+-------------------+-------------------+-------------------+---------+-----+\n",
      "|             date_D|           value_D|             date_C|            value_C|    debut_prog_mode|programme| mode|\n",
      "+-------------------+------------------+-------------------+-------------------+-------------------+---------+-----+\n",
      "|2018-10-20 14:38:40|-16.91526668832627|2018-10-20 14:38:40| 1.3677986240703166|2018-10-20 14:38:40|     prg3|mode1|\n",
      "|2018-10-21 09:38:40|  3.40823511379328|2018-10-21 09:38:40|-0.5591151400853271|2018-10-21 09:38:40|     prg1|mode2|\n",
      "|2018-10-21 10:23:40|12.474151699941231|2018-10-21 10:23:40|  0.834322603398805|2018-10-21 10:23:40|     prg3|mode1|\n",
      "|2018-10-21 18:02:40|-39.48241113266405|2018-10-21 18:02:40| 1.6925290547182141|2018-10-21 18:02:40|     prg1|mode5|\n",
      "|2018-10-21 19:55:40|-21.89039705668902|2018-10-21 19:55:40|  1.534462973971987|2018-10-21 19:55:40|     prg1|mode2|\n",
      "+-------------------+------------------+-------------------+-------------------+-------------------+---------+-----+\n",
      "only showing top 5 rows"
     ]
    }
   ],
   "source": [
    "vibration_C_D_milling_df.show(5)"
   ]
  },
  {
   "cell_type": "markdown",
   "id": "d1b75fd8",
   "metadata": {},
   "source": [
    "<pre>\n",
    "+-------------------+-------------------+-------------------+-------------------+-------------------+---------+-----+\n",
    "|             date_D|            value_D|             date_C|            value_C|    debut_prog_mode|programme| mode|\n",
    "+-------------------+-------------------+-------------------+-------------------+-------------------+---------+-----+\n",
    "|2018-11-19 15:16:40|-10.205652970535986|2018-11-19 15:16:40|-0.4002595557791937|2018-11-19 15:16:40|     prg3|mode3|\n",
    "|2019-01-04 21:20:40|  10.47515259186287|2019-01-04 21:20:40| -0.867314128762798|2019-01-04 21:20:40|     prg1|mode1|\n",
    "|2019-02-20 03:55:40|  6.749618961061843|2019-02-20 03:55:40|-0.5475838200922781|2019-02-20 03:55:40|     prg1|mode3|\n",
    "|2019-08-27 12:17:40| -10.55268783115762|2019-08-27 12:17:40|   -0.0512622876769|2019-08-27 12:17:40|     prg3|mode4|\n",
    "|2019-10-01 03:39:40|-39.105828257085676|2019-10-01 03:39:40| 1.0591544446264256|2019-10-01 03:39:40|     prg3|mode1|\n",
    "+-------------------+-------------------+-------------------+-------------------+-------------------+---------+-----+\n",
    "only showing top 5 rows\n",
    "</pre>"
   ]
  },
  {
   "cell_type": "markdown",
   "id": "77672f4d",
   "metadata": {},
   "source": [
    "### 2.2- Consolidating  Axis C dataframe+Milling modes+Axis C dataframe & Axis A&B"
   ]
  },
  {
   "cell_type": "code",
   "execution_count": 36,
   "id": "27648ee8",
   "metadata": {},
   "outputs": [
    {
     "data": {
      "application/vnd.jupyter.widget-view+json": {
       "model_id": "df4317d6ab71404cbd139349e18cbb42",
       "version_major": 2,
       "version_minor": 0
      },
      "text/plain": [
       "VBox()"
      ]
     },
     "metadata": {},
     "output_type": "display_data"
    },
    {
     "data": {
      "application/vnd.jupyter.widget-view+json": {
       "model_id": "",
       "version_major": 2,
       "version_minor": 0
      },
      "text/plain": [
       "FloatProgress(value=0.0, bar_style='info', description='Progress:', layout=Layout(height='25px', width='50%'),…"
      ]
     },
     "metadata": {},
     "output_type": "display_data"
    },
    {
     "name": "stdout",
     "output_type": "stream",
     "text": [
      "DataFrame[date_AB: string, value_A: string, value_B: string, date_D: string, value_D: string, date_C: string, value_C: string, debut_prog_mode: string, programme: string, mode: string]"
     ]
    }
   ],
   "source": [
    "#Join (milling mode, vibration_c, vibration_d ) & vibration_a_b\n",
    "vibration_A_B_C_D_milling_df = vibration_A_B_df_without_null. \\\n",
    "                       join(vibration_C_D_milling_df, vibration_A_B_df_without_null.date_AB.substr(1,19)==vibration_C_D_milling_df.date_D, how = 'inner')\n",
    "vibration_A_B_C_D_milling_df.persist(StorageLevel.MEMORY_AND_DISK)"
   ]
  },
  {
   "cell_type": "code",
   "execution_count": 37,
   "id": "fc52a7af",
   "metadata": {},
   "outputs": [
    {
     "data": {
      "application/vnd.jupyter.widget-view+json": {
       "model_id": "a10169d5527f408f9a643aea9a555fa2",
       "version_major": 2,
       "version_minor": 0
      },
      "text/plain": [
       "VBox()"
      ]
     },
     "metadata": {},
     "output_type": "display_data"
    },
    {
     "data": {
      "application/vnd.jupyter.widget-view+json": {
       "model_id": "",
       "version_major": 2,
       "version_minor": 0
      },
      "text/plain": [
       "FloatProgress(value=0.0, bar_style='info', description='Progress:', layout=Layout(height='25px', width='50%'),…"
      ]
     },
     "metadata": {},
     "output_type": "display_data"
    },
    {
     "name": "stdout",
     "output_type": "stream",
     "text": [
      "+--------------------+--------------------+--------------------+-------------------+------------------+-------------------+------------------+-------------------+---------+-----+\n",
      "|             date_AB|             value_A|             value_B|             date_D|           value_D|             date_C|           value_C|    debut_prog_mode|programme| mode|\n",
      "+--------------------+--------------------+--------------------+-------------------+------------------+-------------------+------------------+-------------------+---------+-----+\n",
      "|2018-12-29 16:06:...| 0.13627758136417167| -0.4648627425392277|2018-12-29 16:06:40|-9.613326548667038|2018-12-29 16:06:40|1.0556886269138857|2018-12-29 16:06:40|     prg3|mode3|\n",
      "|2018-12-29 16:06:...|-0.21216823394973788| -0.3896096143305258|2018-12-29 16:06:40|-9.613326548667038|2018-12-29 16:06:40|1.0556886269138857|2018-12-29 16:06:40|     prg3|mode3|\n",
      "|2018-12-29 16:06:...|  0.6511266540000997|-0.09225297692872193|2018-12-29 16:06:40|-9.613326548667038|2018-12-29 16:06:40|1.0556886269138857|2018-12-29 16:06:40|     prg3|mode3|\n",
      "|2018-12-29 16:06:...| 0.04519463605601759|-0.31353998453994975|2018-12-29 16:06:40|-9.613326548667038|2018-12-29 16:06:40|1.0556886269138857|2018-12-29 16:06:40|     prg3|mode3|\n",
      "|2018-12-29 16:06:...|  0.9739615081069366| -0.4732913761896134|2018-12-29 16:06:40|-9.613326548667038|2018-12-29 16:06:40|1.0556886269138857|2018-12-29 16:06:40|     prg3|mode3|\n",
      "+--------------------+--------------------+--------------------+-------------------+------------------+-------------------+------------------+-------------------+---------+-----+\n",
      "only showing top 5 rows"
     ]
    }
   ],
   "source": [
    "vibration_A_B_C_D_milling_df.show(5)"
   ]
  },
  {
   "cell_type": "markdown",
   "id": "2233123e",
   "metadata": {},
   "source": [
    "<pre>\n",
    "+--------------------+--------------------+--------------------+-------------------+------------------+-------------------+------------------+-------------------+---------+-----+\n",
    "|             date_AB|             value_A|             value_B|             date_D|           value_D|             date_C|           value_C|    debut_prog_mode|programme| mode|\n",
    "+--------------------+--------------------+--------------------+-------------------+------------------+-------------------+------------------+-------------------+---------+-----+\n",
    "|2018-12-29 16:06:...| 0.13627758136417167| -0.4648627425392277|2018-12-29 16:06:40|-9.613326548667038|2018-12-29 16:06:40|1.0556886269138857|2018-12-29 16:06:40|     prg3|mode3|\n",
    "|2018-12-29 16:06:...|-0.21216823394973788| -0.3896096143305258|2018-12-29 16:06:40|-9.613326548667038|2018-12-29 16:06:40|1.0556886269138857|2018-12-29 16:06:40|     prg3|mode3|\n",
    "|2018-12-29 16:06:...|  0.6511266540000997|-0.09225297692872193|2018-12-29 16:06:40|-9.613326548667038|2018-12-29 16:06:40|1.0556886269138857|2018-12-29 16:06:40|     prg3|mode3|\n",
    "|2018-12-29 16:06:...| 0.04519463605601759|-0.31353998453994975|2018-12-29 16:06:40|-9.613326548667038|2018-12-29 16:06:40|1.0556886269138857|2018-12-29 16:06:40|     prg3|mode3|\n",
    "|2018-12-29 16:06:...|  0.9739615081069366| -0.4732913761896134|2018-12-29 16:06:40|-9.613326548667038|2018-12-29 16:06:40|1.0556886269138857|2018-12-29 16:06:40|     prg3|mode3|\n",
    "+--------------------+--------------------+--------------------+-------------------+------------------+-------------------+------------------+-------------------+---------+-----+\n",
    "only showing top 5 rows\n",
    "</pre>"
   ]
  },
  {
   "cell_type": "markdown",
   "id": "a2a9f7cf",
   "metadata": {},
   "source": [
    "### 2.2.3- Save data as ORC"
   ]
  },
  {
   "cell_type": "code",
   "execution_count": 40,
   "id": "cc349f75",
   "metadata": {},
   "outputs": [
    {
     "data": {
      "application/vnd.jupyter.widget-view+json": {
       "model_id": "7fcd33e42d3f4c3781ca907c9a9462cf",
       "version_major": 2,
       "version_minor": 0
      },
      "text/plain": [
       "VBox()"
      ]
     },
     "metadata": {},
     "output_type": "display_data"
    },
    {
     "data": {
      "application/vnd.jupyter.widget-view+json": {
       "model_id": "",
       "version_major": 2,
       "version_minor": 0
      },
      "text/plain": [
       "FloatProgress(value=0.0, bar_style='info', description='Progress:', layout=Layout(height='25px', width='50%'),…"
      ]
     },
     "metadata": {},
     "output_type": "display_data"
    }
   ],
   "source": [
    "#Persist\n",
    "vibration_A_B_C_D_milling_df.write.mode(\"overwrite\").orc(output_uri)"
   ]
  },
  {
   "cell_type": "markdown",
   "id": "f2e5c164",
   "metadata": {},
   "source": [
    "<div class=\"lm-Widget p-Widget lm-Panel p-Panel p-Collapse-contents\"><div class=\"lm-Widget p-Widget lm-Panel p-Panel jupyter-widgets widget-container widget-box widget-vbox\"><div class=\"lm-Widget p-Widget lm-Panel p-Panel jupyter-widgets widget-container widget-box widget-vbox\" style=\"max-height: 500px; overflow-y: scroll;\"><div class=\"lm-Widget p-Widget lm-Panel p-Panel p-Accordion jupyter-widgets widget-accordion widget-container\"><div class=\"lm-Widget p-Widget p-Collapse p-Accordion-child p-Collapse-open p-Accordion-child-active\"><div class=\"lm-Widget p-Widget p-Collapse-header\"><i class=\"fa fa-fw fa-caret-down\"></i><span>Job [20]: orc at NativeMethodAccessorImpl.java:0</span></div><div class=\"lm-Widget p-Widget lm-Panel p-Panel p-Collapse-contents\"><div class=\"lm-Widget p-Widget lm-Panel p-Panel jupyter-widgets widget-container widget-box widget-vbox\"><div class=\"lm-Widget p-Widget lm-Panel p-Panel jupyter-widgets widget-container widget-box widget-hbox\" style=\"border: 3px solid rgb(35, 47, 60); justify-content: space-around;\"><div class=\"lm-Widget p-Widget jupyter-widgets widget-label\">Progress for orc at NativeMethodAccessorImpl.java:0</div><div class=\"lm-Widget p-Widget lm-Panel p-Panel jupyter-widgets widget-container widget-box widget-hbox\" style=\"justify-content: space-around; width: 60%;\"><div class=\"lm-Widget p-Widget jupyter-widgets widget-label\" style=\"width: 40%;\">Job Progress: 200/200 Tasks Complete</div><div class=\"lm-Widget p-Widget jupyter-widgets widget-hprogress widget-inline-hbox\" style=\"width: 60%;\"><label class=\"widget-label\" title=\"\" style=\"display: none;\"></label><div class=\"progress\" style=\"position: relative;\"><div class=\"progress-bar progress-bar-success\" style=\"position: absolute; bottom: 0px; left: 0px; width: 100%; height: 100%;\"></div></div></div></div></div><div class=\"lm-Widget p-Widget lm-Panel p-Panel jupyter-widgets widget-container widget-box widget-hbox\" style=\"border: 3px solid rgb(93, 109, 126);\"></div><div class=\"lm-Widget p-Widget lm-Panel p-Panel jupyter-widgets widget-container widget-box widget-hbox\" style=\"border: 3px solid rgb(35, 47, 60); justify-content: flex-start;\"><button class=\"lm-Widget p-Widget jupyter-widgets jupyter-button widget-button\" title=\"\" style=\"width: 26%;\">Stage [ID]: name at [source]:[line]</button><button class=\"lm-Widget p-Widget jupyter-widgets jupyter-button widget-button\" title=\"\" style=\"width: 12%;\">Status</button><button class=\"lm-Widget p-Widget jupyter-widgets jupyter-button widget-button\" title=\"\" style=\"width: 29%;\">Task Progress</button><button class=\"lm-Widget p-Widget jupyter-widgets jupyter-button widget-button\" title=\"\" style=\"width: 19%;\">Elapsed Time (seconds)</button><button class=\"lm-Widget p-Widget jupyter-widgets jupyter-button widget-button\" title=\"\" style=\"width: 14%;\">Failed Task Logs</button></div><div class=\"lm-Widget p-Widget lm-Panel p-Panel jupyter-widgets widget-container widget-box widget-vbox\" style=\"max-height: 200px; overflow-y: scroll;\"><div class=\"lm-Widget p-Widget lm-Panel p-Panel jupyter-widgets widget-container widget-box widget-hbox\" style=\"border: 3px solid rgb(93, 109, 126); justify-content: flex-start; min-height: 40px;\"><div class=\"lm-Widget p-Widget lm-Panel p-Panel jupyter-widgets widget-container widget-box widget-hbox\" style=\"justify-content: space-around; width: 26%;\"><div class=\"lm-Widget p-Widget jupyter-widgets widget-label\" style=\"width: 100%;\">Stage [35]: showString at Na...java:0</div></div><div class=\"lm-Widget p-Widget lm-Panel p-Panel jupyter-widgets widget-container widget-box widget-hbox\" style=\"justify-content: space-around; width: 12%;\"><button class=\"lm-Widget p-Widget jupyter-widgets jupyter-button widget-button\" title=\"\" style=\"width: 100%; background-color: rgb(214, 214, 214);\">SKIPPED</button></div><div class=\"lm-Widget p-Widget lm-Panel p-Panel jupyter-widgets widget-container widget-box widget-hbox\" style=\"justify-content: space-around; width: 29%;\"><div class=\"lm-Widget p-Widget jupyter-widgets widget-hprogress widget-inline-hbox\"><label class=\"widget-label\" title=\"0/39\" style=\"\">0/39</label><div class=\"progress\" style=\"position: relative;\"><div class=\"progress-bar progress-bar-info\" style=\"position: absolute; bottom: 0px; left: 0px; width: 0%; height: 100%;\"></div></div></div></div><div class=\"lm-Widget p-Widget lm-Panel p-Panel jupyter-widgets widget-container widget-box widget-hbox\" style=\"justify-content: space-around; width: 19%;\"><div class=\"lm-Widget p-Widget jupyter-widgets widget-label\" style=\"width: auto;\">n/a</div></div><div class=\"lm-Widget p-Widget lm-Panel p-Panel jupyter-widgets widget-container widget-box widget-hbox\" style=\"justify-content: space-around; width: 14%;\"><div class=\"lm-Widget p-Widget jupyter-widgets widget-inline-hbox widget-html\" style=\"width: auto;\"><label class=\"widget-label\" title=\"\" style=\"display: none;\"></label><div class=\"widget-html-content\"></div></div></div></div><div class=\"lm-Widget p-Widget lm-Panel p-Panel jupyter-widgets widget-container widget-box widget-hbox\" style=\"border: 3px solid rgb(35, 47, 60); justify-content: flex-start; min-height: 40px;\"><div class=\"lm-Widget p-Widget lm-Panel p-Panel jupyter-widgets widget-container widget-box widget-hbox\" style=\"justify-content: space-around; width: 26%;\"><div class=\"lm-Widget p-Widget jupyter-widgets widget-label\" style=\"width: 100%;\">Stage [36]: orc at NativeMet...java:0</div></div><div class=\"lm-Widget p-Widget lm-Panel p-Panel jupyter-widgets widget-container widget-box widget-hbox\" style=\"justify-content: space-around; width: 12%;\"><button class=\"lm-Widget p-Widget jupyter-widgets jupyter-button widget-button mod-success\" title=\"\" style=\"width: 100%;\">COMPLETE</button></div><div class=\"lm-Widget p-Widget lm-Panel p-Panel jupyter-widgets widget-container widget-box widget-hbox\" style=\"justify-content: space-around; width: 29%;\"><div class=\"lm-Widget p-Widget jupyter-widgets widget-hprogress widget-inline-hbox\"><label class=\"widget-label\" title=\"200/200\" style=\"\">200/200</label><div class=\"progress\" style=\"position: relative;\"><div class=\"progress-bar progress-bar-success\" style=\"position: absolute; bottom: 0px; left: 0px; width: 100%; height: 100%;\"></div></div></div></div><div class=\"lm-Widget p-Widget lm-Panel p-Panel jupyter-widgets widget-container widget-box widget-hbox\" style=\"justify-content: space-around; width: 19%;\"><div class=\"lm-Widget p-Widget jupyter-widgets widget-label\" style=\"width: auto;\">7.222</div></div><div class=\"lm-Widget p-Widget lm-Panel p-Panel jupyter-widgets widget-container widget-box widget-hbox\" style=\"justify-content: space-around; width: 14%;\"><div class=\"lm-Widget p-Widget jupyter-widgets widget-inline-hbox widget-html\" style=\"width: auto;\"><label class=\"widget-label\" title=\"\" style=\"display: none;\"></label><div class=\"widget-html-content\"></div></div></div></div></div></div></div></div></div></div></div></div>"
   ]
  },
  {
   "cell_type": "code",
   "execution_count": 43,
   "id": "93b6f881",
   "metadata": {},
   "outputs": [
    {
     "data": {
      "application/vnd.jupyter.widget-view+json": {
       "model_id": "26bd7c6cf1fa4b62a25884d337d9242a",
       "version_major": 2,
       "version_minor": 0
      },
      "text/plain": [
       "VBox()"
      ]
     },
     "metadata": {},
     "output_type": "display_data"
    },
    {
     "data": {
      "application/vnd.jupyter.widget-view+json": {
       "model_id": "",
       "version_major": 2,
       "version_minor": 0
      },
      "text/plain": [
       "FloatProgress(value=0.0, bar_style='info', description='Progress:', layout=Layout(height='25px', width='50%'),…"
      ]
     },
     "metadata": {},
     "output_type": "display_data"
    },
    {
     "name": "stdout",
     "output_type": "stream",
     "text": [
      "Consolidation lines :  39999"
     ]
    }
   ],
   "source": [
    "print('Consolidation lines : ', vibration_A_B_C_D_milling_df.count())"
   ]
  }
 ],
 "metadata": {
  "kernelspec": {
   "display_name": "PySpark",
   "language": "",
   "name": "pysparkkernel"
  },
  "language_info": {
   "codemirror_mode": {
    "name": "python",
    "version": 2
   },
   "mimetype": "text/x-python",
   "name": "pyspark",
   "pygments_lexer": "python2"
  }
 },
 "nbformat": 4,
 "nbformat_minor": 5
}
